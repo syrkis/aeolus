{
 "cells": [
  {
   "cell_type": "code",
   "execution_count": 4,
   "metadata": {},
   "outputs": [],
   "source": [
    "import rasterio\n",
    "from shapely.geometry import mapping\n",
    "import os\n",
    "import rasterio.mask\n",
    "from rasterio.mask import mask\n",
    "import rasterio.features\n",
    "import geopandas as gpd\n",
    "import pandas as pd\n",
    "from shapely.geometry import Polygon\n",
    "import matplotlib.pyplot as plt\n",
    "import numpy as np\n",
    "from scipy.ndimage import uniform_filter\n",
    "import elevation\n",
    "import tempfile\n",
    "import seaborn as sns\n",
    "from src.utils import DATA_DIR, KILOMETERS_OFFSHORE"
   ]
  },
  {
   "cell_type": "code",
   "execution_count": 5,
   "metadata": {},
   "outputs": [],
   "source": [
    "plt.style.use('dark_background')"
   ]
  },
  {
   "cell_type": "code",
   "execution_count": 6,
   "metadata": {},
   "outputs": [],
   "source": [
    "brazil = gpd.read_file(f'{DATA_DIR}/brazil.geojson')\n",
    "offshore = gpd.read_file(f'{DATA_DIR}/offshore.geojson')"
   ]
  },
  {
   "cell_type": "markdown",
   "metadata": {},
   "source": [
    "## Meterology"
   ]
  },
  {
   "cell_type": "code",
   "execution_count": 23,
   "metadata": {},
   "outputs": [],
   "source": [
    "\n",
    "def get_power_density(geometries):\n",
    "    with rasterio.open(f'{DATA_DIR}/meterology/gwa3_250_powerdensity_100m.tif') as src:\n",
    "        power_density, out_transform = rasterio.mask.mask(src, geometries, crop=True)\n",
    "        power_density = power_density[0]\n",
    "    return power_density, src.meta\n",
    "\n",
    "def get_wind_speed(geometries):\n",
    "    with rasterio.open(f'{DATA_DIR}/meterology/gwa3_250_windspeed_100m.tif') as src:\n",
    "        wind_speed, out_transform = rasterio.mask.mask(src, geometries, crop=True)\n",
    "        wind_speed = wind_speed[0]\n",
    "    return wind_speed\n"
   ]
  },
  {
   "cell_type": "code",
   "execution_count": 24,
   "metadata": {},
   "outputs": [
    {
     "name": "stdout",
     "output_type": "stream",
     "text": [
      "{'driver': 'GTiff', 'dtype': 'float32', 'nodata': -999.0, 'width': 144263, 'height': 55933, 'count': 1, 'crs': CRS.from_epsg(4326), 'transform': Affine(0.002500000000000124, 0.0, -180.33092731781537,\n",
      "       0.0, -0.002500000000000124, 81.5107687477372)}\n"
     ]
    }
   ],
   "source": [
    "geometries = [mapping(polygon) for polygon in brazil.union(offshore).geometry]\n",
    "wind_speed = get_wind_speed(geometries)\n",
    "power_density = get_power_density(geometries)"
   ]
  },
  {
   "cell_type": "markdown",
   "metadata": {},
   "source": [
    "## Demography"
   ]
  },
  {
   "cell_type": "code",
   "execution_count": 9,
   "metadata": {},
   "outputs": [],
   "source": [
    "def get_population_density():\n",
    "    population_density = pd.read_csv(f'{DATA_DIR}/demography/bra_pd_2020_1km_ASCII_XYZ.csv')\n",
    "    population_density = gpd.GeoDataFrame(population_density['Z'],\n",
    "        geometry=gpd.points_from_xy(population_density['X'], population_density['Y']))\n",
    "    return population_density"
   ]
  },
  {
   "cell_type": "code",
   "execution_count": 10,
   "metadata": {},
   "outputs": [],
   "source": [
    "population_density = get_population_density()"
   ]
  },
  {
   "cell_type": "markdown",
   "metadata": {},
   "source": [
    "## Topography"
   ]
  },
  {
   "cell_type": "code",
   "execution_count": 13,
   "metadata": {},
   "outputs": [],
   "source": [
    "def get_topography():\n",
    "    with rasterio.open(f'{DATA_DIR}/topography/brazil_dem.tif') as src:\n",
    "        topography = src.read(1)\n",
    "    return topography\n",
    "\n",
    "def get_slope():\n",
    "    with rasterio.open(f'{DATA_DIR}/topography/slope.tif') as src:\n",
    "        slope = src.read(1)\n",
    "    return slope\n",
    "\n",
    "def get_roughness():\n",
    "    with rasterio.open(f'{DATA_DIR}/topography/roughness.tif') as src:\n",
    "        roughness = src.read(1)\n",
    "    return roughness"
   ]
  },
  {
   "cell_type": "code",
   "execution_count": 12,
   "metadata": {},
   "outputs": [],
   "source": [
    "topography = get_topography()\n",
    "slope      = get_slope()\n",
    "roughness  = get_roughness()"
   ]
  },
  {
   "cell_type": "markdown",
   "metadata": {},
   "source": [
    "## Biodiversity"
   ]
  },
  {
   "cell_type": "markdown",
   "metadata": {},
   "source": [
    "## Infrastructure"
   ]
  },
  {
   "cell_type": "code",
   "execution_count": null,
   "metadata": {},
   "outputs": [],
   "source": []
  },
  {
   "cell_type": "markdown",
   "metadata": {},
   "source": [
    "## Analysis"
   ]
  },
  {
   "cell_type": "code",
   "execution_count": 14,
   "metadata": {},
   "outputs": [],
   "source": [
    "# this metereology mask is rater based and has the crs of the raster\n",
    "metereology_mask = (wind_speed > 8) & (wind_speed < 12) & (power_density > 200)"
   ]
  },
  {
   "cell_type": "code",
   "execution_count": 15,
   "metadata": {},
   "outputs": [],
   "source": [
    "\n",
    "population_mask = population_density['Z'] < 1"
   ]
  },
  {
   "cell_type": "code",
   "execution_count": 21,
   "metadata": {},
   "outputs": [
    {
     "data": {
      "text/plain": [
       "array([[-999., -999., -999., ..., -999., -999., -999.],\n",
       "       [-999., -999., -999., ..., -999., -999., -999.],\n",
       "       [-999., -999., -999., ..., -999., -999., -999.],\n",
       "       ...,\n",
       "       [-999., -999., -999., ..., -999., -999., -999.],\n",
       "       [-999., -999., -999., ..., -999., -999., -999.],\n",
       "       [-999., -999., -999., ..., -999., -999., -999.]], dtype=float32)"
      ]
     },
     "execution_count": 21,
     "metadata": {},
     "output_type": "execute_result"
    }
   ],
   "source": [
    "wind_speed"
   ]
  },
  {
   "cell_type": "code",
   "execution_count": null,
   "metadata": {},
   "outputs": [],
   "source": []
  }
 ],
 "metadata": {
  "kernelspec": {
   "display_name": "Python 3 (ipykernel)",
   "language": "python",
   "name": "python3"
  },
  "language_info": {
   "codemirror_mode": {
    "name": "ipython",
    "version": 3
   },
   "file_extension": ".py",
   "mimetype": "text/x-python",
   "name": "python",
   "nbconvert_exporter": "python",
   "pygments_lexer": "ipython3",
   "version": "3.10.10"
  },
  "orig_nbformat": 4
 },
 "nbformat": 4,
 "nbformat_minor": 2
}
